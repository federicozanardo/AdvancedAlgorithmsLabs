{
  "nbformat": 4,
  "nbformat_minor": 0,
  "metadata": {
    "colab": {
      "name": "Misurazioni MST.ipynb",
      "provenance": [],
      "collapsed_sections": [
        "JUeeuKpsA4wO",
        "NESGFKtMCRNJ",
        "EeRrUOvvEC4R",
        "4j4CktMNTtcf",
        "ptabqu2coSQk",
        "HyHcF0nSoSQp",
        "RI2XPmp4oSQs",
        "PvkD7E9qoSQv"
      ]
    },
    "kernelspec": {
      "name": "python3",
      "display_name": "Python 3"
    },
    "language_info": {
      "name": "python"
    }
  },
  "cells": [
    {
      "cell_type": "markdown",
      "metadata": {
        "id": "-4t7mpiArNx_"
      },
      "source": [
        "# **Risultati ottenuti per gli algoritmi di Kruskal naive, Kruskal con Union-Find e Prim**"
      ]
    },
    {
      "cell_type": "markdown",
      "metadata": {
        "id": "wDsnkxlGq60Z"
      },
      "source": [
        "## **Inclusione delle librerie necessarie**"
      ]
    },
    {
      "cell_type": "code",
      "metadata": {
        "id": "8e8veAh3gS3i"
      },
      "source": [
        "import math\n",
        "import numpy as np\n",
        "import pandas as pd\n",
        "import matplotlib.pyplot as plt"
      ],
      "execution_count": 1,
      "outputs": []
    },
    {
      "cell_type": "markdown",
      "metadata": {
        "id": "WIKfEScTmaw1"
      },
      "source": [
        "## **Esecuzioni senza ripetizioni**"
      ]
    },
    {
      "cell_type": "markdown",
      "metadata": {
        "id": "JUeeuKpsA4wO"
      },
      "source": [
        "### **Esecuzioni senza ripetizioni Kruskal naive**"
      ]
    },
    {
      "cell_type": "code",
      "metadata": {
        "id": "n0tB7v3fA4wa"
      },
      "source": [
        "df = pd.read_csv('output_kruskal_2021-04-25_16-30-44.csv', sep='\\t')"
      ],
      "execution_count": 186,
      "outputs": []
    },
    {
      "cell_type": "code",
      "metadata": {
        "id": "GOv08STpA4wb"
      },
      "source": [
        "data = []\n",
        "\n",
        "data.insert(0, {'10': 10, '9': 9, '78809.0000000': '78809.0000000', '0.0000788': '0.0000788', '29316': '29316', '1.1': '1.1'})\n",
        "\n",
        "df_kruskal = pd.concat([pd.DataFrame(data), df], ignore_index=True)\n",
        "df_kruskal.drop('1', inplace=True, axis=1)\n",
        "df_kruskal.columns = ['n_vertices', 'n_edges', 'time', 'time_in_s', 'weight', 'num_calls']"
      ],
      "execution_count": 187,
      "outputs": []
    },
    {
      "cell_type": "code",
      "metadata": {
        "colab": {
          "base_uri": "https://localhost:8080/",
          "height": 576
        },
        "id": "bwj9xJooA4wb",
        "outputId": "c85f9f3a-bc47-4d57-8cb7-644fda7eb18d"
      },
      "source": [
        "current_n_vertices = 0\n",
        "sum_times = 0.0\n",
        "sum_edges = 0\n",
        "\n",
        "df_tempi_kruskal = pd.DataFrame()\n",
        "\n",
        "for index, row in df_kruskal.iterrows():\n",
        "\n",
        "  if current_n_vertices == 0:\n",
        "    current_n_vertices = row['n_vertices']\n",
        "  \n",
        "  if current_n_vertices != row['n_vertices']:\n",
        "    df_tempi_kruskal_temp = pd.DataFrame({'n_vertices': str(current_n_vertices), 'mean_edges': (sum_edges / 4), 'time': (sum_times / 4)}, index=[0])\n",
        "    df_tempi_kruskal = pd.concat([df_tempi_kruskal, df_tempi_kruskal_temp], ignore_index=True)\n",
        "\n",
        "    current_n_vertices = row['n_vertices']\n",
        "    sum_times = 0.0\n",
        "    sum_edges = 0\n",
        "\n",
        "  if index == (df.shape[0]):\n",
        "    sum_times += float(row['time'])\n",
        "    sum_edges += int(row['n_edges'])\n",
        "    df_tempi_kruskal_temp = pd.DataFrame({'n_vertices': str(current_n_vertices), 'mean_edges': (sum_edges / 4), 'time': (sum_times / 4)}, index=[0])\n",
        "    df_tempi_kruskal = pd.concat([df_tempi_kruskal, df_tempi_kruskal_temp], ignore_index=True)\n",
        "  else:\n",
        "    sum_times += float(row['time'])\n",
        "    sum_edges += int(row['n_edges'])\n",
        "\n",
        "df_tempi_kruskal"
      ],
      "execution_count": 188,
      "outputs": [
        {
          "output_type": "execute_result",
          "data": {
            "text/html": [
              "<div>\n",
              "<style scoped>\n",
              "    .dataframe tbody tr th:only-of-type {\n",
              "        vertical-align: middle;\n",
              "    }\n",
              "\n",
              "    .dataframe tbody tr th {\n",
              "        vertical-align: top;\n",
              "    }\n",
              "\n",
              "    .dataframe thead th {\n",
              "        text-align: right;\n",
              "    }\n",
              "</style>\n",
              "<table border=\"1\" class=\"dataframe\">\n",
              "  <thead>\n",
              "    <tr style=\"text-align: right;\">\n",
              "      <th></th>\n",
              "      <th>n_vertices</th>\n",
              "      <th>mean_edges</th>\n",
              "      <th>time</th>\n",
              "    </tr>\n",
              "  </thead>\n",
              "  <tbody>\n",
              "    <tr>\n",
              "      <th>0</th>\n",
              "      <td>10</td>\n",
              "      <td>10.75</td>\n",
              "      <td>5.892850e+04</td>\n",
              "    </tr>\n",
              "    <tr>\n",
              "      <th>1</th>\n",
              "      <td>20</td>\n",
              "      <td>25.50</td>\n",
              "      <td>1.221532e+05</td>\n",
              "    </tr>\n",
              "    <tr>\n",
              "      <th>2</th>\n",
              "      <td>40</td>\n",
              "      <td>52.00</td>\n",
              "      <td>2.676005e+05</td>\n",
              "    </tr>\n",
              "    <tr>\n",
              "      <th>3</th>\n",
              "      <td>80</td>\n",
              "      <td>106.25</td>\n",
              "      <td>8.280315e+05</td>\n",
              "    </tr>\n",
              "    <tr>\n",
              "      <th>4</th>\n",
              "      <td>100</td>\n",
              "      <td>133.50</td>\n",
              "      <td>1.025597e+06</td>\n",
              "    </tr>\n",
              "    <tr>\n",
              "      <th>5</th>\n",
              "      <td>200</td>\n",
              "      <td>268.00</td>\n",
              "      <td>3.250592e+06</td>\n",
              "    </tr>\n",
              "    <tr>\n",
              "      <th>6</th>\n",
              "      <td>400</td>\n",
              "      <td>530.50</td>\n",
              "      <td>1.094987e+07</td>\n",
              "    </tr>\n",
              "    <tr>\n",
              "      <th>7</th>\n",
              "      <td>800</td>\n",
              "      <td>1061.50</td>\n",
              "      <td>4.010636e+07</td>\n",
              "    </tr>\n",
              "    <tr>\n",
              "      <th>8</th>\n",
              "      <td>1000</td>\n",
              "      <td>1321.25</td>\n",
              "      <td>6.270164e+07</td>\n",
              "    </tr>\n",
              "    <tr>\n",
              "      <th>9</th>\n",
              "      <td>2000</td>\n",
              "      <td>2670.50</td>\n",
              "      <td>2.470382e+08</td>\n",
              "    </tr>\n",
              "    <tr>\n",
              "      <th>10</th>\n",
              "      <td>4000</td>\n",
              "      <td>5345.75</td>\n",
              "      <td>9.873375e+08</td>\n",
              "    </tr>\n",
              "    <tr>\n",
              "      <th>11</th>\n",
              "      <td>8000</td>\n",
              "      <td>10698.50</td>\n",
              "      <td>3.868433e+09</td>\n",
              "    </tr>\n",
              "    <tr>\n",
              "      <th>12</th>\n",
              "      <td>10000</td>\n",
              "      <td>13309.75</td>\n",
              "      <td>5.975047e+09</td>\n",
              "    </tr>\n",
              "    <tr>\n",
              "      <th>13</th>\n",
              "      <td>20000</td>\n",
              "      <td>26709.00</td>\n",
              "      <td>2.454522e+10</td>\n",
              "    </tr>\n",
              "    <tr>\n",
              "      <th>14</th>\n",
              "      <td>40000</td>\n",
              "      <td>53355.50</td>\n",
              "      <td>1.212344e+11</td>\n",
              "    </tr>\n",
              "    <tr>\n",
              "      <th>15</th>\n",
              "      <td>80000</td>\n",
              "      <td>106671.75</td>\n",
              "      <td>6.757913e+11</td>\n",
              "    </tr>\n",
              "    <tr>\n",
              "      <th>16</th>\n",
              "      <td>100000</td>\n",
              "      <td>133399.00</td>\n",
              "      <td>1.134280e+12</td>\n",
              "    </tr>\n",
              "  </tbody>\n",
              "</table>\n",
              "</div>"
            ],
            "text/plain": [
              "   n_vertices  mean_edges          time\n",
              "0          10       10.75  5.892850e+04\n",
              "1          20       25.50  1.221532e+05\n",
              "2          40       52.00  2.676005e+05\n",
              "3          80      106.25  8.280315e+05\n",
              "4         100      133.50  1.025597e+06\n",
              "5         200      268.00  3.250592e+06\n",
              "6         400      530.50  1.094987e+07\n",
              "7         800     1061.50  4.010636e+07\n",
              "8        1000     1321.25  6.270164e+07\n",
              "9        2000     2670.50  2.470382e+08\n",
              "10       4000     5345.75  9.873375e+08\n",
              "11       8000    10698.50  3.868433e+09\n",
              "12      10000    13309.75  5.975047e+09\n",
              "13      20000    26709.00  2.454522e+10\n",
              "14      40000    53355.50  1.212344e+11\n",
              "15      80000   106671.75  6.757913e+11\n",
              "16     100000   133399.00  1.134280e+12"
            ]
          },
          "metadata": {
            "tags": []
          },
          "execution_count": 188
        }
      ]
    },
    {
      "cell_type": "code",
      "metadata": {
        "colab": {
          "base_uri": "https://localhost:8080/"
        },
        "id": "kke21KNdA4wc",
        "outputId": "bec6cb19-2578-49b0-97d4-6a92fd21e9b4"
      },
      "source": [
        "ratios = [None] + [round(df_tempi_kruskal.iloc[i + 1]['time'] / df_tempi_kruskal.iloc[i]['time'], 6) for i in range((df_tempi_kruskal.shape[0] - 1))]\n",
        "ratios"
      ],
      "execution_count": 189,
      "outputs": [
        {
          "output_type": "execute_result",
          "data": {
            "text/plain": [
              "[None,\n",
              " 2.072906,\n",
              " 2.190695,\n",
              " 3.094282,\n",
              " 1.238596,\n",
              " 3.169464,\n",
              " 3.368576,\n",
              " 3.662726,\n",
              " 1.563384,\n",
              " 3.939899,\n",
              " 3.9967,\n",
              " 3.918045,\n",
              " 1.544565,\n",
              " 4.107953,\n",
              " 4.939228,\n",
              " 5.574253,\n",
              " 1.678447]"
            ]
          },
          "metadata": {
            "tags": []
          },
          "execution_count": 189
        }
      ]
    },
    {
      "cell_type": "code",
      "metadata": {
        "colab": {
          "base_uri": "https://localhost:8080/"
        },
        "id": "oMVX9OrrA4wd",
        "outputId": "fc029a9e-7c33-4716-dfd2-8ecba7120c41"
      },
      "source": [
        "c_estimates = [round(df_tempi_kruskal.iloc[i]['time'] / (float(df_tempi_kruskal.iloc[i]['mean_edges']) * float(df_tempi_kruskal.iloc[i]['n_vertices'])), 6) for i in range(df_tempi_kruskal.shape[0])]\n",
        "c_estimates"
      ],
      "execution_count": 190,
      "outputs": [
        {
          "output_type": "execute_result",
          "data": {
            "text/plain": [
              "[548.172093,\n",
              " 239.516176,\n",
              " 128.654087,\n",
              " 97.415471,\n",
              " 76.823727,\n",
              " 60.645368,\n",
              " 51.601631,\n",
              " 47.228401,\n",
              " 47.456306,\n",
              " 46.253168,\n",
              " 46.173946,\n",
              " 45.198312,\n",
              " 44.892258,\n",
              " 45.949334,\n",
              " 56.805017,\n",
              " 79.190515,\n",
              " 85.029095]"
            ]
          },
          "metadata": {
            "tags": []
          },
          "execution_count": 190
        }
      ]
    },
    {
      "cell_type": "code",
      "metadata": {
        "colab": {
          "base_uri": "https://localhost:8080/",
          "height": 444
        },
        "id": "dA7-bzvrprRB",
        "outputId": "3bdffb59-7f64-4d7b-ffd8-08ec59e8a899"
      },
      "source": [
        "reference = []\n",
        "for i in range(df_tempi_kruskal.shape[0]):\n",
        "  reference = [round(85.029095 * float(df_tempi_kruskal.iloc[i]['mean_edges']) * float(df_tempi_kruskal.iloc[i]['n_vertices']), 6) for i in range(df_tempi_kruskal.shape[0])]\n",
        "\n",
        "fig = plt.figure(figsize=(10, 7))\n",
        "ax = fig.add_subplot(111)\n",
        "ax.plot(df_tempi_kruskal['n_vertices'], df_tempi_kruskal['time'], label='Complessità computazionale dell\\'algoritmo')\n",
        "ax.plot(df_tempi_kruskal['n_vertices'], reference, label='Complessità computazionale teorica dell\\'algoritmo')\n",
        "ax.set_title('Algoritmo di Kruskal, versione naive')\n",
        "ax.legend()\n",
        "plt.savefig('kruskal_naive_senza_ripetizioni.png')\n",
        "plt.show()"
      ],
      "execution_count": 192,
      "outputs": [
        {
          "output_type": "display_data",
          "data": {
            "image/png": "[encoded data removed]",
            "text/plain": [
              "<Figure size 720x504 with 1 Axes>"
            ]
          },
          "metadata": {
            "tags": [],
            "needs_background": "light"
          }
        }
      ]
    },
    {
      "cell_type": "markdown",
      "metadata": {
        "id": "NESGFKtMCRNJ"
      },
      "source": [
        "### **Esecuzioni senza ripetizioni Kruskal Union-Find**"
      ]
    },
    {
      "cell_type": "code",
      "metadata": {
        "id": "lyEG9nEuCRNU"
      },
      "source": [
        "df = pd.read_csv('output_kruskal_uf_2021-04-25_16-30-44.csv', sep='\\t')"
      ],
      "execution_count": 193,
      "outputs": []
    },
    {
      "cell_type": "code",
      "metadata": {
        "id": "_SJR78u-CRNW"
      },
      "source": [
        "data = []\n",
        "\n",
        "data.insert(0, {'10': 10, '9': 9, '78258.0000000': '78258.0000000', '0.0000783': '0.0000783', '29316': '29316', '1.1': '1.1'})\n",
        "\n",
        "df_kruskal_uf = pd.concat([pd.DataFrame(data), df], ignore_index=True)\n",
        "df_kruskal_uf.drop('1', inplace=True, axis=1)\n",
        "df_kruskal_uf.columns = ['n_vertices', 'n_edges', 'time', 'time_in_s', 'weight', 'num_calls']"
      ],
      "execution_count": 194,
      "outputs": []
    },
    {
      "cell_type": "code",
      "metadata": {
        "colab": {
          "base_uri": "https://localhost:8080/",
          "height": 576
        },
        "id": "1wp5HeiGCRNW",
        "outputId": "be4b1a97-c138-4092-e1be-c05a84521077"
      },
      "source": [
        "current_n_vertices = 0\n",
        "sum_times = 0.0\n",
        "sum_edges = 0\n",
        "\n",
        "df_tempi_kruskal_uf = pd.DataFrame()\n",
        "\n",
        "for index, row in df_kruskal_uf.iterrows():\n",
        "  \n",
        "  if current_n_vertices == 0:\n",
        "    current_n_vertices = row['n_vertices']\n",
        "  \n",
        "  if current_n_vertices != row['n_vertices']:\n",
        "    df_tempi_kruskal_uf_temp = pd.DataFrame({'n_vertices': str(current_n_vertices), 'mean_edges': (sum_edges / 4), 'time': (sum_times / 4)}, index=[0])\n",
        "    df_tempi_kruskal_uf = pd.concat([df_tempi_kruskal_uf, df_tempi_kruskal_uf_temp], ignore_index=True)\n",
        "\n",
        "    current_n_vertices = row['n_vertices']\n",
        "    sum_times = 0.0\n",
        "    sum_edges = 0\n",
        "\n",
        "  if index == (df.shape[0]):\n",
        "    sum_times += float(row['time'])\n",
        "    sum_edges += int(row['n_edges'])\n",
        "    df_tempi_kruskal_uf_temp = pd.DataFrame({'n_vertices': str(current_n_vertices), 'mean_edges': (sum_edges / 4), 'time': (sum_times / 4)}, index=[0])\n",
        "    df_tempi_kruskal_uf = pd.concat([df_tempi_kruskal_uf, df_tempi_kruskal_uf_temp], ignore_index=True)\n",
        "  else:\n",
        "    sum_times += float(row['time'])\n",
        "    sum_edges += int(row['n_edges'])\n",
        "\n",
        "df_tempi_kruskal_uf"
      ],
      "execution_count": 195,
      "outputs": [
        {
          "output_type": "execute_result",
          "data": {
            "text/html": [
              "<div>\n",
              "<style scoped>\n",
              "    .dataframe tbody tr th:only-of-type {\n",
              "        vertical-align: middle;\n",
              "    }\n",
              "\n",
              "    .dataframe tbody tr th {\n",
              "        vertical-align: top;\n",
              "    }\n",
              "\n",
              "    .dataframe thead th {\n",
              "        text-align: right;\n",
              "    }\n",
              "</style>\n",
              "<table border=\"1\" class=\"dataframe\">\n",
              "  <thead>\n",
              "    <tr style=\"text-align: right;\">\n",
              "      <th></th>\n",
              "      <th>n_vertices</th>\n",
              "      <th>mean_edges</th>\n",
              "      <th>time</th>\n",
              "    </tr>\n",
              "  </thead>\n",
              "  <tbody>\n",
              "    <tr>\n",
              "      <th>0</th>\n",
              "      <td>10</td>\n",
              "      <td>10.75</td>\n",
              "      <td>6.443175e+04</td>\n",
              "    </tr>\n",
              "    <tr>\n",
              "      <th>1</th>\n",
              "      <td>20</td>\n",
              "      <td>25.50</td>\n",
              "      <td>1.338680e+05</td>\n",
              "    </tr>\n",
              "    <tr>\n",
              "      <th>2</th>\n",
              "      <td>40</td>\n",
              "      <td>52.00</td>\n",
              "      <td>2.930790e+05</td>\n",
              "    </tr>\n",
              "    <tr>\n",
              "      <th>3</th>\n",
              "      <td>80</td>\n",
              "      <td>106.25</td>\n",
              "      <td>6.418195e+05</td>\n",
              "    </tr>\n",
              "    <tr>\n",
              "      <th>4</th>\n",
              "      <td>100</td>\n",
              "      <td>133.50</td>\n",
              "      <td>8.083045e+05</td>\n",
              "    </tr>\n",
              "    <tr>\n",
              "      <th>5</th>\n",
              "      <td>200</td>\n",
              "      <td>268.00</td>\n",
              "      <td>1.694560e+06</td>\n",
              "    </tr>\n",
              "    <tr>\n",
              "      <th>6</th>\n",
              "      <td>400</td>\n",
              "      <td>530.50</td>\n",
              "      <td>3.755298e+06</td>\n",
              "    </tr>\n",
              "    <tr>\n",
              "      <th>7</th>\n",
              "      <td>800</td>\n",
              "      <td>1061.50</td>\n",
              "      <td>8.216295e+06</td>\n",
              "    </tr>\n",
              "    <tr>\n",
              "      <th>8</th>\n",
              "      <td>1000</td>\n",
              "      <td>1321.25</td>\n",
              "      <td>1.046867e+07</td>\n",
              "    </tr>\n",
              "    <tr>\n",
              "      <th>9</th>\n",
              "      <td>2000</td>\n",
              "      <td>2670.50</td>\n",
              "      <td>2.262977e+07</td>\n",
              "    </tr>\n",
              "    <tr>\n",
              "      <th>10</th>\n",
              "      <td>4000</td>\n",
              "      <td>5345.75</td>\n",
              "      <td>4.809225e+07</td>\n",
              "    </tr>\n",
              "    <tr>\n",
              "      <th>11</th>\n",
              "      <td>8000</td>\n",
              "      <td>10698.50</td>\n",
              "      <td>1.016407e+08</td>\n",
              "    </tr>\n",
              "    <tr>\n",
              "      <th>12</th>\n",
              "      <td>10000</td>\n",
              "      <td>13309.75</td>\n",
              "      <td>1.283250e+08</td>\n",
              "    </tr>\n",
              "    <tr>\n",
              "      <th>13</th>\n",
              "      <td>20000</td>\n",
              "      <td>26709.00</td>\n",
              "      <td>2.727671e+08</td>\n",
              "    </tr>\n",
              "    <tr>\n",
              "      <th>14</th>\n",
              "      <td>40000</td>\n",
              "      <td>53355.50</td>\n",
              "      <td>5.752392e+08</td>\n",
              "    </tr>\n",
              "    <tr>\n",
              "      <th>15</th>\n",
              "      <td>80000</td>\n",
              "      <td>106671.75</td>\n",
              "      <td>1.243852e+09</td>\n",
              "    </tr>\n",
              "    <tr>\n",
              "      <th>16</th>\n",
              "      <td>100000</td>\n",
              "      <td>133399.00</td>\n",
              "      <td>1.593563e+09</td>\n",
              "    </tr>\n",
              "  </tbody>\n",
              "</table>\n",
              "</div>"
            ],
            "text/plain": [
              "   n_vertices  mean_edges          time\n",
              "0          10       10.75  6.443175e+04\n",
              "1          20       25.50  1.338680e+05\n",
              "2          40       52.00  2.930790e+05\n",
              "3          80      106.25  6.418195e+05\n",
              "4         100      133.50  8.083045e+05\n",
              "5         200      268.00  1.694560e+06\n",
              "6         400      530.50  3.755298e+06\n",
              "7         800     1061.50  8.216295e+06\n",
              "8        1000     1321.25  1.046867e+07\n",
              "9        2000     2670.50  2.262977e+07\n",
              "10       4000     5345.75  4.809225e+07\n",
              "11       8000    10698.50  1.016407e+08\n",
              "12      10000    13309.75  1.283250e+08\n",
              "13      20000    26709.00  2.727671e+08\n",
              "14      40000    53355.50  5.752392e+08\n",
              "15      80000   106671.75  1.243852e+09\n",
              "16     100000   133399.00  1.593563e+09"
            ]
          },
          "metadata": {
            "tags": []
          },
          "execution_count": 195
        }
      ]
    },
    {
      "cell_type": "code",
      "metadata": {
        "colab": {
          "base_uri": "https://localhost:8080/"
        },
        "id": "GlbO-S5GCRNX",
        "outputId": "9e0c361f-382b-4946-f862-23b21d104fb8"
      },
      "source": [
        "ratios = [None] + [round(df_tempi_kruskal_uf.iloc[i + 1]['time'] / df_tempi_kruskal_uf.iloc[i]['time'], 6) for i in range((df_tempi_kruskal_uf.shape[0] - 1))]\n",
        "ratios"
      ],
      "execution_count": 196,
      "outputs": [
        {
          "output_type": "execute_result",
          "data": {
            "text/plain": [
              "[None,\n",
              " 2.077671,\n",
              " 2.189313,\n",
              " 2.18992,\n",
              " 1.259395,\n",
              " 2.096438,\n",
              " 2.21609,\n",
              " 2.187921,\n",
              " 1.274136,\n",
              " 2.161665,\n",
              " 2.125176,\n",
              " 2.113452,\n",
              " 1.262536,\n",
              " 2.125596,\n",
              " 2.108903,\n",
              " 2.162321,\n",
              " 1.281152]"
            ]
          },
          "metadata": {
            "tags": []
          },
          "execution_count": 196
        }
      ]
    },
    {
      "cell_type": "code",
      "metadata": {
        "colab": {
          "base_uri": "https://localhost:8080/"
        },
        "id": "rZEtAi4nCRNX",
        "outputId": "54427b90-caca-4bc2-b8f3-72d990f061e8"
      },
      "source": [
        "c_estimates = [round(df_tempi_kruskal_uf.iloc[i]['time'] / (float(df_tempi_kruskal_uf.iloc[i]['mean_edges']) * math.log(float(df_tempi_kruskal_uf.iloc[i]['n_vertices']), 2)), 6) for i in range(df_tempi_kruskal_uf.shape[0])]\n",
        "c_estimates"
      ],
      "execution_count": 197,
      "outputs": [
        {
          "output_type": "execute_result",
          "data": {
            "text/plain": [
              "[1804.268784,\n",
              " 1214.672104,\n",
              " 1059.039979,\n",
              " 955.508197,\n",
              " 911.325469,\n",
              " 827.198452,\n",
              " 818.938816,\n",
              " 802.61138,\n",
              " 795.051432,\n",
              " 772.76568,\n",
              " 751.839729,\n",
              " 732.733073,\n",
              " 725.5897,\n",
              " 714.778701,\n",
              " 705.223538,\n",
              " 715.911167,\n",
              " 719.211383]"
            ]
          },
          "metadata": {
            "tags": []
          },
          "execution_count": 197
        }
      ]
    },
    {
      "cell_type": "code",
      "metadata": {
        "colab": {
          "base_uri": "https://localhost:8080/",
          "height": 444
        },
        "id": "31Mv6rDOqA7S",
        "outputId": "152ae644-1baa-4f82-9246-4538dc6e4d1b"
      },
      "source": [
        "reference = []\n",
        "for i in range(df_tempi_kruskal_uf.shape[0]):\n",
        "  reference = [round(719.211383 * float(df_tempi_kruskal_uf.iloc[i]['mean_edges']) * math.log(float(df_tempi_kruskal_uf.iloc[i]['n_vertices']), 2), 6) for i in range(df_tempi_kruskal_uf.shape[0])]\n",
        "\n",
        "fig = plt.figure(figsize=(10, 7))\n",
        "ax = fig.add_subplot(111)\n",
        "ax.plot(df_tempi_kruskal_uf['n_vertices'], df_tempi_kruskal_uf['time'], label='Complessità computazionale dell\\'algoritmo')\n",
        "ax.plot(df_tempi_kruskal_uf['n_vertices'], reference, label='Complessità computazionale teorica dell\\'algoritmo')\n",
        "ax.set_title('Algoritmo di Kruskal con Union-Find')\n",
        "ax.legend()\n",
        "plt.savefig('kruskal_uf_senza_ripetizioni.png')\n",
        "plt.show()"
      ],
      "execution_count": 199,
      "outputs": [
        {
          "output_type": "display_data",
          "data": {
            "image/png": "[encoded data removed]",
            "text/plain": [
              "<Figure size 720x504 with 1 Axes>"
            ]
          },
          "metadata": {
            "tags": [],
            "needs_background": "light"
          }
        }
      ]
    },
    {
      "cell_type": "markdown",
      "metadata": {
        "id": "EeRrUOvvEC4R"
      },
      "source": [
        "### **Esecuzioni senza ripetizioni Prim**"
      ]
    },
    {
      "cell_type": "code",
      "metadata": {
        "id": "pm6juE8LEC4R"
      },
      "source": [
        "df = pd.read_csv('output_prim_2021-04-25_16-30-44.csv', sep='\\t')"
      ],
      "execution_count": 200,
      "outputs": []
    },
    {
      "cell_type": "code",
      "metadata": {
        "id": "tMtGRMtREC4S"
      },
      "source": [
        "data = []\n",
        "\n",
        "data.insert(0, {'10': 10, '9': 9, '117332.0000000': '117332.0000000', '0.0001173': '0.0001173', '29316': '29316', '1.1': '1.1'})\n",
        "\n",
        "df_prim = pd.concat([pd.DataFrame(data), df], ignore_index=True)\n",
        "df_prim.drop('1', inplace=True, axis=1)\n",
        "df_prim.columns = ['n_vertices', 'n_edges', 'time', 'time_in_s', 'weight', 'num_calls']"
      ],
      "execution_count": 201,
      "outputs": []
    },
    {
      "cell_type": "code",
      "metadata": {
        "colab": {
          "base_uri": "https://localhost:8080/",
          "height": 576
        },
        "id": "yDTs1vuKEC4S",
        "outputId": "47309230-e0e9-40f8-e592-9a13d812fadb"
      },
      "source": [
        "current_n_vertices = 0\n",
        "sum_times = 0.0\n",
        "sum_edges = 0\n",
        "\n",
        "df_prim_tempi = pd.DataFrame()\n",
        "\n",
        "for index, row in df_prim.iterrows():\n",
        "  \n",
        "  if current_n_vertices == 0:\n",
        "    current_n_vertices = row['n_vertices']\n",
        "  \n",
        "  if current_n_vertices != row['n_vertices']:\n",
        "    df_tempi_prim_temp = pd.DataFrame({'n_vertices': str(current_n_vertices), 'mean_edges': (sum_edges / 4), 'time': (sum_times / 4)}, index=[0]) #, index=range(0,16)\n",
        "    df_prim_tempi = pd.concat([df_prim_tempi, df_tempi_prim_temp], ignore_index=True)\n",
        "\n",
        "    current_n_vertices = row['n_vertices']\n",
        "    sum_times = 0.0\n",
        "    sum_edges = 0\n",
        "\n",
        "  if index == (df.shape[0]):\n",
        "    sum_times += float(row['time'])\n",
        "    sum_edges += int(row['n_edges'])\n",
        "    df_tempi_prim_temp = pd.DataFrame({'n_vertices': str(current_n_vertices), 'mean_edges': (sum_edges / 4), 'time': (sum_times / 4)}, index=[0]) #, index=range(0,16)\n",
        "    df_prim_tempi = pd.concat([df_prim_tempi, df_tempi_prim_temp], ignore_index=True)\n",
        "  else:\n",
        "    sum_times += float(row['time'])\n",
        "    sum_edges += int(row['n_edges'])\n",
        "\n",
        "df_prim_tempi"
      ],
      "execution_count": 202,
      "outputs": [
        {
          "output_type": "execute_result",
          "data": {
            "text/html": [
              "<div>\n",
              "<style scoped>\n",
              "    .dataframe tbody tr th:only-of-type {\n",
              "        vertical-align: middle;\n",
              "    }\n",
              "\n",
              "    .dataframe tbody tr th {\n",
              "        vertical-align: top;\n",
              "    }\n",
              "\n",
              "    .dataframe thead th {\n",
              "        text-align: right;\n",
              "    }\n",
              "</style>\n",
              "<table border=\"1\" class=\"dataframe\">\n",
              "  <thead>\n",
              "    <tr style=\"text-align: right;\">\n",
              "      <th></th>\n",
              "      <th>n_vertices</th>\n",
              "      <th>mean_edges</th>\n",
              "      <th>time</th>\n",
              "    </tr>\n",
              "  </thead>\n",
              "  <tbody>\n",
              "    <tr>\n",
              "      <th>0</th>\n",
              "      <td>10</td>\n",
              "      <td>10.75</td>\n",
              "      <td>1.056322e+05</td>\n",
              "    </tr>\n",
              "    <tr>\n",
              "      <th>1</th>\n",
              "      <td>20</td>\n",
              "      <td>25.50</td>\n",
              "      <td>2.561412e+05</td>\n",
              "    </tr>\n",
              "    <tr>\n",
              "      <th>2</th>\n",
              "      <td>40</td>\n",
              "      <td>52.00</td>\n",
              "      <td>6.095012e+05</td>\n",
              "    </tr>\n",
              "    <tr>\n",
              "      <th>3</th>\n",
              "      <td>80</td>\n",
              "      <td>106.25</td>\n",
              "      <td>1.477941e+06</td>\n",
              "    </tr>\n",
              "    <tr>\n",
              "      <th>4</th>\n",
              "      <td>100</td>\n",
              "      <td>133.50</td>\n",
              "      <td>1.985463e+06</td>\n",
              "    </tr>\n",
              "    <tr>\n",
              "      <th>5</th>\n",
              "      <td>200</td>\n",
              "      <td>268.00</td>\n",
              "      <td>4.621837e+06</td>\n",
              "    </tr>\n",
              "    <tr>\n",
              "      <th>6</th>\n",
              "      <td>400</td>\n",
              "      <td>530.50</td>\n",
              "      <td>1.062264e+07</td>\n",
              "    </tr>\n",
              "    <tr>\n",
              "      <th>7</th>\n",
              "      <td>800</td>\n",
              "      <td>1061.50</td>\n",
              "      <td>2.433243e+07</td>\n",
              "    </tr>\n",
              "    <tr>\n",
              "      <th>8</th>\n",
              "      <td>1000</td>\n",
              "      <td>1321.25</td>\n",
              "      <td>3.163530e+07</td>\n",
              "    </tr>\n",
              "    <tr>\n",
              "      <th>9</th>\n",
              "      <td>2000</td>\n",
              "      <td>2670.50</td>\n",
              "      <td>7.219989e+07</td>\n",
              "    </tr>\n",
              "    <tr>\n",
              "      <th>10</th>\n",
              "      <td>4000</td>\n",
              "      <td>5345.75</td>\n",
              "      <td>1.607584e+08</td>\n",
              "    </tr>\n",
              "    <tr>\n",
              "      <th>11</th>\n",
              "      <td>8000</td>\n",
              "      <td>10698.50</td>\n",
              "      <td>3.559251e+08</td>\n",
              "    </tr>\n",
              "    <tr>\n",
              "      <th>12</th>\n",
              "      <td>10000</td>\n",
              "      <td>13309.75</td>\n",
              "      <td>4.585626e+08</td>\n",
              "    </tr>\n",
              "    <tr>\n",
              "      <th>13</th>\n",
              "      <td>20000</td>\n",
              "      <td>26709.00</td>\n",
              "      <td>1.004173e+09</td>\n",
              "    </tr>\n",
              "    <tr>\n",
              "      <th>14</th>\n",
              "      <td>40000</td>\n",
              "      <td>53355.50</td>\n",
              "      <td>2.221970e+09</td>\n",
              "    </tr>\n",
              "    <tr>\n",
              "      <th>15</th>\n",
              "      <td>80000</td>\n",
              "      <td>106671.75</td>\n",
              "      <td>4.934310e+09</td>\n",
              "    </tr>\n",
              "    <tr>\n",
              "      <th>16</th>\n",
              "      <td>100000</td>\n",
              "      <td>133399.00</td>\n",
              "      <td>6.369860e+09</td>\n",
              "    </tr>\n",
              "  </tbody>\n",
              "</table>\n",
              "</div>"
            ],
            "text/plain": [
              "   n_vertices  mean_edges          time\n",
              "0          10       10.75  1.056322e+05\n",
              "1          20       25.50  2.561412e+05\n",
              "2          40       52.00  6.095012e+05\n",
              "3          80      106.25  1.477941e+06\n",
              "4         100      133.50  1.985463e+06\n",
              "5         200      268.00  4.621837e+06\n",
              "6         400      530.50  1.062264e+07\n",
              "7         800     1061.50  2.433243e+07\n",
              "8        1000     1321.25  3.163530e+07\n",
              "9        2000     2670.50  7.219989e+07\n",
              "10       4000     5345.75  1.607584e+08\n",
              "11       8000    10698.50  3.559251e+08\n",
              "12      10000    13309.75  4.585626e+08\n",
              "13      20000    26709.00  1.004173e+09\n",
              "14      40000    53355.50  2.221970e+09\n",
              "15      80000   106671.75  4.934310e+09\n",
              "16     100000   133399.00  6.369860e+09"
            ]
          },
          "metadata": {
            "tags": []
          },
          "execution_count": 202
        }
      ]
    },
    {
      "cell_type": "code",
      "metadata": {
        "colab": {
          "base_uri": "https://localhost:8080/"
        },
        "id": "BWxe2tghEC4T",
        "outputId": "73a5b5cb-878b-478d-960a-e7dc28edadf2"
      },
      "source": [
        "ratios = [None] + [round(df_prim_tempi.iloc[i + 1]['time'] / df_prim_tempi.iloc[i]['time'], 6) for i in range((df_prim_tempi.shape[0] - 1))]\n",
        "ratios"
      ],
      "execution_count": 203,
      "outputs": [
        {
          "output_type": "execute_result",
          "data": {
            "text/plain": [
              "[None,\n",
              " 2.424839,\n",
              " 2.379551,\n",
              " 2.424837,\n",
              " 1.343398,\n",
              " 2.327839,\n",
              " 2.298358,\n",
              " 2.290621,\n",
              " 1.300129,\n",
              " 2.282257,\n",
              " 2.226575,\n",
              " 2.214037,\n",
              " 1.288368,\n",
              " 2.189828,\n",
              " 2.212736,\n",
              " 2.220691,\n",
              " 1.290932]"
            ]
          },
          "metadata": {
            "tags": []
          },
          "execution_count": 203
        }
      ]
    },
    {
      "cell_type": "code",
      "metadata": {
        "colab": {
          "base_uri": "https://localhost:8080/"
        },
        "id": "OudX64PxEC4T",
        "outputId": "4c77848a-8290-4623-d9d4-78791d7843f5"
      },
      "source": [
        "c_estimates = [round(df_prim_tempi.iloc[i]['time'] / (float(df_prim_tempi.iloc[i]['mean_edges']) * math.log(float(df_prim_tempi.iloc[i]['n_vertices']), 2)), 6) for i in range(df_prim_tempi.shape[0])]\n",
        "c_estimates"
      ],
      "execution_count": 204,
      "outputs": [
        {
          "output_type": "execute_result",
          "data": {
            "text/plain": [
              "[2957.997745,\n",
              " 2324.137441,\n",
              " 2202.430712,\n",
              " 2200.283693,\n",
              " 2238.516266,\n",
              " 2256.146516,\n",
              " 2316.538117,\n",
              " 2376.921451,\n",
              " 2402.567178,\n",
              " 2465.495588,\n",
              " 2513.1821,\n",
              " 2565.883479,\n",
              " 2592.856584,\n",
              " 2631.408631,\n",
              " 2724.059024,\n",
              " 2839.990624,\n",
              " 2874.862482]"
            ]
          },
          "metadata": {
            "tags": []
          },
          "execution_count": 204
        }
      ]
    },
    {
      "cell_type": "code",
      "metadata": {
        "colab": {
          "base_uri": "https://localhost:8080/",
          "height": 444
        },
        "id": "rW63VbBVqPUg",
        "outputId": "7faa66d2-89d5-4990-f710-462657abe36a"
      },
      "source": [
        "reference = []\n",
        "for i in range(df_prim_tempi.shape[0]):\n",
        "  reference = [round(2874.862482 * float(df_prim_tempi.iloc[i]['mean_edges']) * math.log(float(df_prim_tempi.iloc[i]['n_vertices']), 2), 6) for i in range(df_prim_tempi.shape[0])]\n",
        "\n",
        "fig = plt.figure(figsize=(10, 7))\n",
        "ax = fig.add_subplot(111)\n",
        "ax.plot(df_prim_tempi['n_vertices'], df_prim_tempi['time'], label='Complessità computazionale dell\\'algoritmo')\n",
        "ax.plot(df_prim_tempi['n_vertices'], reference, label='Complessità computazionale teorica dell\\'algoritmo')\n",
        "ax.set_title('Algoritmo di Prim')\n",
        "ax.legend()\n",
        "plt.savefig('prim_senza_ripetizioni.png')\n",
        "plt.show()"
      ],
      "execution_count": 206,
      "outputs": [
        {
          "output_type": "display_data",
          "data": {
            "image/png": "[encoded data removed]",
            "text/plain": [
              "<Figure size 720x504 with 1 Axes>"
            ]
          },
          "metadata": {
            "tags": [],
            "needs_background": "light"
          }
        }
      ]
    },
    {
      "cell_type": "markdown",
      "metadata": {
        "id": "4j4CktMNTtcf"
      },
      "source": [
        "### **Confronto: Kruskal Union-Find vs Prim**"
      ]
    },
    {
      "cell_type": "code",
      "metadata": {
        "colab": {
          "base_uri": "https://localhost:8080/",
          "height": 444
        },
        "id": "BfBfHwiqqb71",
        "outputId": "30c0cd02-7488-4390-ae92-1388add1de9b"
      },
      "source": [
        "fig = plt.figure(figsize=(10, 7))\n",
        "ax = fig.add_subplot(111)\n",
        "ax.plot(df_prim_tempi['n_vertices'], df_prim_tempi['time'], label='Algoritmo di Prim')\n",
        "ax.plot(df_tempi_kruskal_uf['n_vertices'], df_tempi_kruskal_uf['time'], label='Algoritmo di Kruskal con Union-Find')\n",
        "ax.set_title('Kruskal con Union-Find vs Prim')\n",
        "ax.legend()\n",
        "plt.savefig('kruskal_uf_vs_prim_senza_ripetizioni.png')\n",
        "plt.show()"
      ],
      "execution_count": 208,
      "outputs": [
        {
          "output_type": "display_data",
          "data": {
            "image/png": "[encoded data removed]",
            "text/plain": [
              "<Figure size 720x504 with 1 Axes>"
            ]
          },
          "metadata": {
            "tags": [],
            "needs_background": "light"
          }
        }
      ]
    },
    {
      "cell_type": "markdown",
      "metadata": {
        "id": "_k0rTwq0oSQf"
      },
      "source": [
        "## **Esecuzioni con ripetizioni**"
      ]
    },
    {
      "cell_type": "markdown",
      "metadata": {
        "id": "ptabqu2coSQk"
      },
      "source": [
        "### **Esecuzioni Kruskal naive**"
      ]
    },
    {
      "cell_type": "code",
      "metadata": {
        "id": "hRFdMI2goSQl"
      },
      "source": [
        "df = pd.read_csv('quartet_kruskal_2021-04-25_21-44-31.csv', sep='\\t')"
      ],
      "execution_count": 170,
      "outputs": []
    },
    {
      "cell_type": "code",
      "metadata": {
        "id": "nLpX43gdoSQm"
      },
      "source": [
        "data = []\n",
        "\n",
        "data.insert(0, {'10': 10, '( 1 2 3 4 )': '( 1 2 3 4 )', '( 9 11 13 10 )': '( 9 11 13 10 )', '10.75': 10.75, '45035.1676435': 45035.1676435, '0.0000450': 0.0000450, '73364': 73364, '18341': 18341})\n",
        "\n",
        "df_kruskal = pd.concat([pd.DataFrame(data), df], ignore_index=True)\n",
        "df_kruskal.columns = ['n_vertices', 'dataset_num', 'n_edges', 'mean_edges', 'time', 'time_in_s', 'n_rep', 'idk2']"
      ],
      "execution_count": 171,
      "outputs": []
    },
    {
      "cell_type": "code",
      "metadata": {
        "colab": {
          "base_uri": "https://localhost:8080/"
        },
        "id": "Nu_gmsbsoSQo",
        "outputId": "04435e24-d8f0-484e-c1ad-c49bd1a4ac27"
      },
      "source": [
        "ratios = [None] + [round(df_kruskal.iloc[i + 1]['time'] / df_kruskal.iloc[i]['time'], 6) for i in range((df_kruskal.shape[0] - 1))]\n",
        "ratios"
      ],
      "execution_count": 172,
      "outputs": [
        {
          "output_type": "execute_result",
          "data": {
            "text/plain": [
              "[None,\n",
              " 2.562473,\n",
              " 2.217824,\n",
              " 3.156276,\n",
              " 1.237876,\n",
              " 3.215773,\n",
              " 3.376363,\n",
              " 3.641519,\n",
              " 1.552916,\n",
              " 3.950218,\n",
              " 3.992168,\n",
              " 3.923942,\n",
              " 1.541916,\n",
              " 4.055268,\n",
              " 5.016185,\n",
              " 5.51158,\n",
              " 1.701934]"
            ]
          },
          "metadata": {
            "tags": []
          },
          "execution_count": 172
        }
      ]
    },
    {
      "cell_type": "code",
      "metadata": {
        "colab": {
          "base_uri": "https://localhost:8080/"
        },
        "id": "KxU20-3GoSQo",
        "outputId": "07555933-ac9f-47b9-b180-31e14bcdc4ca"
      },
      "source": [
        "c_estimates = [round(df_kruskal.iloc[i]['time'] / (df_kruskal.iloc[i]['mean_edges'] * df_kruskal.iloc[i]['n_vertices']), 9) for i in range(df_kruskal.shape[0])]\n",
        "c_estimates"
      ],
      "execution_count": 173,
      "outputs": [
        {
          "output_type": "execute_result",
          "data": {
            "text/plain": [
              "[418.931792033,\n",
              " 226.277254055,\n",
              " 123.048069394,\n",
              " 95.037311243,\n",
              " 74.90467312,\n",
              " 59.99440398,\n",
              " 51.165750497,\n",
              " 46.55832447,\n",
              " 46.46974184,\n",
              " 45.410233161,\n",
              " 45.281044463,\n",
              " 44.390986172,\n",
              " 44.014763331,\n",
              " 44.473390421,\n",
              " 55.837021811,\n",
              " 76.96586248,\n",
              " 83.796830401]"
            ]
          },
          "metadata": {
            "tags": []
          },
          "execution_count": 173
        }
      ]
    },
    {
      "cell_type": "code",
      "metadata": {
        "colab": {
          "base_uri": "https://localhost:8080/",
          "height": 0
        },
        "id": "1oYhP34Yl4pb",
        "outputId": "f62064f5-6aa9-440e-9268-dde257078a21"
      },
      "source": [
        "reference = []\n",
        "for i in range(df_kruskal.shape[0]):\n",
        "  reference = [round(83.796830401 * df_kruskal.iloc[i]['mean_edges'] * df_kruskal.iloc[i]['n_vertices'], 6) for i in range(df_kruskal.shape[0])]\n",
        "\n",
        "fig = plt.figure(figsize=(10, 7))\n",
        "ax = fig.add_subplot(111)\n",
        "ax.plot(df_kruskal['n_vertices'], df_kruskal['time'], label='Complessità computazionale dell\\'algoritmo')\n",
        "ax.plot(df_kruskal['n_vertices'], reference, label='Complessità computazionale teorica dell\\'algoritmo')\n",
        "ax.set_title('Algoritmo di Kruskal, versione naive')\n",
        "ax.legend()\n",
        "plt.savefig('kruskal_naive.png')\n",
        "plt.show()"
      ],
      "execution_count": 174,
      "outputs": [
        {
          "output_type": "display_data",
          "data": {
            "image/png": "[encoded data removed]",
            "text/plain": [
              "<Figure size 720x504 with 1 Axes>"
            ]
          },
          "metadata": {
            "tags": [],
            "needs_background": "light"
          }
        }
      ]
    },
    {
      "cell_type": "markdown",
      "metadata": {
        "id": "HyHcF0nSoSQp"
      },
      "source": [
        "### **Esecuzioni Kruskal Union-Find**"
      ]
    },
    {
      "cell_type": "code",
      "metadata": {
        "id": "CIsZhXxSoSQp"
      },
      "source": [
        "df = pd.read_csv('quartet_kruskal_uf_2021-04-25_21-44-31.csv', sep='\\t')"
      ],
      "execution_count": 209,
      "outputs": []
    },
    {
      "cell_type": "code",
      "metadata": {
        "id": "APMJn6BWoSQq"
      },
      "source": [
        "data = []\n",
        "\n",
        "data.insert(0, {'10': 10, '( 1 2 3 4 )': '( 1 2 3 4 )', '( 9 11 13 10 )': '( 9 11 13 10 )', '10.75': 10.75, '46543.8431867': 46543.8431867, '0.0000465': 0.0000465, '67456': 67456, '16864': 16864})\n",
        "\n",
        "df_kruskal_uf = pd.concat([pd.DataFrame(data), df], ignore_index=True)\n",
        "df_kruskal_uf.columns = ['n_vertices', 'dataset_num', 'n_edges', 'mean_edges', 'time', 'time_in_s', 'n_rep', 'idk2']"
      ],
      "execution_count": 210,
      "outputs": []
    },
    {
      "cell_type": "code",
      "metadata": {
        "colab": {
          "base_uri": "https://localhost:8080/"
        },
        "id": "mSNFyittoSQr",
        "outputId": "3fdd4c44-6863-4ea6-9b2f-6a21507dd0aa"
      },
      "source": [
        "ratios = [None] + [round(df_kruskal_uf.iloc[i + 1]['time'] / df_kruskal_uf.iloc[i]['time'], 6) for i in range((df_kruskal_uf.shape[0] - 1))]\n",
        "ratios"
      ],
      "execution_count": 211,
      "outputs": [
        {
          "output_type": "execute_result",
          "data": {
            "text/plain": [
              "[None,\n",
              " 2.445288,\n",
              " 2.157675,\n",
              " 2.149974,\n",
              " 1.291283,\n",
              " 2.113983,\n",
              " 2.20742,\n",
              " 2.165865,\n",
              " 1.263741,\n",
              " 2.14803,\n",
              " 2.108109,\n",
              " 2.123544,\n",
              " 1.274558,\n",
              " 2.108503,\n",
              " 2.137875,\n",
              " 2.566855,\n",
              " 1.277627]"
            ]
          },
          "metadata": {
            "tags": []
          },
          "execution_count": 211
        }
      ]
    },
    {
      "cell_type": "code",
      "metadata": {
        "colab": {
          "base_uri": "https://localhost:8080/"
        },
        "id": "87OcrChdoSQr",
        "outputId": "5fff6afa-cd26-4d96-f42b-bb5be3f58b07"
      },
      "source": [
        "c_estimates = [round(df_kruskal_uf.iloc[i]['time'] / (df_kruskal_uf.iloc[i]['mean_edges'] * math.log(df_kruskal_uf.iloc[i]['n_vertices'], 2)), 6) for i in range(df_kruskal_uf.shape[0])]\n",
        "c_estimates"
      ],
      "execution_count": 212,
      "outputs": [
        {
          "output_type": "execute_result",
          "data": {
            "text/plain": [
              "[1303.35748,\n",
              " 1032.700874,\n",
              " 887.372327,\n",
              " 786.018908,\n",
              " 768.654897,\n",
              " 703.537184,\n",
              " 693.787423,\n",
              " 673.100608,\n",
              " 661.320998,\n",
              " 638.729184,\n",
              " 616.442059,\n",
              " 603.645085,\n",
              " 603.452333,\n",
              " 589.680723,\n",
              " 589.790535,\n",
              " 710.740934,\n",
              " 712.052651]"
            ]
          },
          "metadata": {
            "tags": []
          },
          "execution_count": 212
        }
      ]
    },
    {
      "cell_type": "code",
      "metadata": {
        "colab": {
          "base_uri": "https://localhost:8080/",
          "height": 0
        },
        "id": "smazGPW8lZyV",
        "outputId": "53629a1d-92e0-43ea-9717-71a7703a34f5"
      },
      "source": [
        "reference = []\n",
        "for i in range(df_kruskal_uf.shape[0]):\n",
        "  reference = [round(712.052651 * (df_kruskal_uf.iloc[i]['mean_edges'] * math.log(df_kruskal_uf.iloc[i]['n_vertices'], 2)), 6) for i in range(df_kruskal_uf.shape[0])]\n",
        "\n",
        "fig = plt.figure(figsize=(10, 7))\n",
        "ax = fig.add_subplot(111)\n",
        "ax.plot(df_kruskal_uf['n_vertices'], df_kruskal_uf['time'], label='Complessità computazionale dell\\'algoritmo')\n",
        "ax.plot(df_kruskal_uf['n_vertices'], reference, label='Complessità computazionale teorica dell\\'algoritmo')\n",
        "ax.set_title('Algoritmo di Kruskal con Union-Find')\n",
        "ax.legend()\n",
        "plt.savefig('kruskal_union_find.png')\n",
        "plt.show()"
      ],
      "execution_count": 213,
      "outputs": [
        {
          "output_type": "display_data",
          "data": {
            "image/png": "[encoded data removed]",
            "text/plain": [
              "<Figure size 720x504 with 1 Axes>"
            ]
          },
          "metadata": {
            "tags": [],
            "needs_background": "light"
          }
        }
      ]
    },
    {
      "cell_type": "markdown",
      "metadata": {
        "id": "RI2XPmp4oSQs"
      },
      "source": [
        "### **Esecuzioni Prim**"
      ]
    },
    {
      "cell_type": "code",
      "metadata": {
        "id": "3Sdfo5FJoSQs"
      },
      "source": [
        "df = pd.read_csv('quartet_prim_2021-04-25_21-44-31.csv', sep='\\t')"
      ],
      "execution_count": 180,
      "outputs": []
    },
    {
      "cell_type": "code",
      "metadata": {
        "id": "jfafPnC0oSQs"
      },
      "source": [
        "data = []\n",
        "\n",
        "data.insert(0, {'10': 10, '( 1 2 3 4 )': '( 1 2 3 4 )', '( 9 11 13 10 )': '( 9 11 13 10 )', '10.75': 10.75, '86834.0868442': 86834.0868442, '0.0000868': 0.0000868, '39496': 39496, '9874': 9874})\n",
        "\n",
        "df_prim = pd.concat([pd.DataFrame(data), df], ignore_index=True)\n",
        "df_prim.columns = ['n_vertices', 'dataset_num', 'n_edges', 'mean_edges', 'time', 'time_in_s', 'n_rep', 'idk2']"
      ],
      "execution_count": 181,
      "outputs": []
    },
    {
      "cell_type": "code",
      "metadata": {
        "colab": {
          "base_uri": "https://localhost:8080/"
        },
        "id": "Ohb8dQiuoSQu",
        "outputId": "f2333133-1cfd-46d8-d611-ee2eee73a527"
      },
      "source": [
        "ratios = [None] + [round(df_prim.iloc[i + 1]['time'] / df_prim.iloc[i]['time'], 6) for i in range((df_prim.shape[0] - 1))]\n",
        "ratios"
      ],
      "execution_count": 182,
      "outputs": [
        {
          "output_type": "execute_result",
          "data": {
            "text/plain": [
              "[None,\n",
              " 2.761863,\n",
              " 2.455011,\n",
              " 2.448773,\n",
              " 1.333122,\n",
              " 2.341784,\n",
              " 2.305991,\n",
              " 2.299832,\n",
              " 1.300993,\n",
              " 2.281372,\n",
              " 2.230372,\n",
              " 2.215758,\n",
              " 1.285168,\n",
              " 2.197012,\n",
              " 2.207181,\n",
              " 2.202024,\n",
              " 1.294235]"
            ]
          },
          "metadata": {
            "tags": []
          },
          "execution_count": 182
        }
      ]
    },
    {
      "cell_type": "code",
      "metadata": {
        "colab": {
          "base_uri": "https://localhost:8080/"
        },
        "id": "Xh7A5wxgoSQv",
        "outputId": "c226fd13-3fdc-495c-cbef-441eedf8c5ac"
      },
      "source": [
        "c_estimates = [round(df_prim.iloc[i]['time'] / (df_prim.iloc[i]['mean_edges'] * math.log(df_prim.iloc[i]['n_vertices'], 2)), 6) for i in range(df_prim.shape[0])]\n",
        "c_estimates"
      ],
      "execution_count": 183,
      "outputs": [
        {
          "output_type": "execute_result",
          "data": {
            "text/plain": [
              "[2431.596724,\n",
              " 2176.07911,\n",
              " 2127.519546,\n",
              " 2146.42582,\n",
              " 2167.020104,\n",
              " 2197.171586,\n",
              " 2263.475873,\n",
              " 2331.81568,\n",
              " 2358.540073,\n",
              " 2419.376641,\n",
              " 2470.377408,\n",
              " 2524.142208,\n",
              " 2544.341054,\n",
              " 2590.643017,\n",
              " 2675.125572,\n",
              " 2765.530157,\n",
              " 2806.650759]"
            ]
          },
          "metadata": {
            "tags": []
          },
          "execution_count": 183
        }
      ]
    },
    {
      "cell_type": "code",
      "metadata": {
        "colab": {
          "base_uri": "https://localhost:8080/",
          "height": 444
        },
        "id": "Y8MTt3QVkMaV",
        "outputId": "eb511402-171a-4958-d3b5-1cc125462022"
      },
      "source": [
        "reference = []\n",
        "for i in range(df_prim.shape[0]):\n",
        "  reference = [round(2806.650759 * df_prim.iloc[i]['mean_edges'] * math.log(df_prim.iloc[i]['n_vertices'], 2), 6) for i in range(df_prim.shape[0])]\n",
        "\n",
        "fig = plt.figure(figsize=(10, 7))\n",
        "ax = fig.add_subplot(111)\n",
        "ax.plot(df_prim['n_vertices'], df_prim['time'], label='Complessità computazionale dell\\'algoritmo')\n",
        "ax.plot(df_prim['n_vertices'], reference, label='Complessità computazionale teorica dell\\'algoritmo')\n",
        "ax.set_title('Algoritmo di Prim')\n",
        "ax.legend()\n",
        "plt.savefig('prim.png')\n",
        "plt.show()"
      ],
      "execution_count": 184,
      "outputs": [
        {
          "output_type": "display_data",
          "data": {
            "image/png": "[encoded data removed]",
            "text/plain": [
              "<Figure size 720x504 with 1 Axes>"
            ]
          },
          "metadata": {
            "tags": [],
            "needs_background": "light"
          }
        }
      ]
    },
    {
      "cell_type": "markdown",
      "metadata": {
        "id": "PvkD7E9qoSQv"
      },
      "source": [
        "#### **Confronto: Kruskal Union-Find vs Prim**"
      ]
    },
    {
      "cell_type": "code",
      "metadata": {
        "colab": {
          "base_uri": "https://localhost:8080/",
          "height": 0
        },
        "id": "gZYALtX6hQVn",
        "outputId": "74cd64e3-c12b-410a-bf5e-56b039a18e32"
      },
      "source": [
        "fig = plt.figure(figsize=(10, 7))\n",
        "ax = fig.add_subplot(111)\n",
        "ax.plot(df_prim['n_vertices'], df_prim['time'], label='Algoritmo di Prim')\n",
        "ax.plot(df_kruskal_uf['n_vertices'], df_kruskal_uf['time'], label='Algoritmo di Krsukal Union-Find')\n",
        "ax.set_title('Kruskal con Union-Find vs Prim')\n",
        "ax.legend()\n",
        "plt.savefig('kruskal_uf_vs_prim.png')\n",
        "plt.show()"
      ],
      "execution_count": 185,
      "outputs": [
        {
          "output_type": "display_data",
          "data": {
            "image/png": "[encoded data removed]",
            "text/plain": [
              "<Figure size 720x504 with 1 Axes>"
            ]
          },
          "metadata": {
            "tags": [],
            "needs_background": "light"
          }
        }
      ]
    }
  ]
}